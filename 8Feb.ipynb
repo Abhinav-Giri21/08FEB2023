{
 "cells": [
  {
   "cell_type": "markdown",
   "id": "fe80c76f-8c24-400f-876e-326d168ef8ea",
   "metadata": {},
   "source": [
    "Q1.What is Abstraction in OOps?Explain with an example.\n",
    "\n",
    "Ans.Abstraction is used to hide the internal functionality of the function from the users. The users only interact with the basic implementation of       the function,but inner working is hidden.\n",
    "\n",
    "Example-\n",
    "When we use the TV remote to increase the volume.We don't know how pressing a key increases the volume of the TV.We only know to press the \"+\" button to increase the volume.  "
   ]
  },
  {
   "cell_type": "markdown",
   "id": "436e043f-3fbe-400c-b2a3-3e8395f5d7d2",
   "metadata": {},
   "source": [
    "Q2.Differentiate between Abstraction and Encapsulation. Explain with an example.\n",
    "\n",
    "Ans.Abstraction is used to hide the internal functionality of the function from the users. The users only interact with the basic implementation of       the function,but inner working is hidden.\n",
    "\n",
    "Example-\n",
    "When we use the TV remote to increase the volume.We don't know how pressing a key increases the volume of the TV.We only know to press the \"+\" button to increase the volume.  \n",
    "\n",
    "Encapsulation is the idea of wrapping data and the methods that work on data within one unit.This puts restrictions on accessing variables and methods directly and can prevent the accidental modification of data.\n",
    "\n",
    "Example-\n",
    "A capsule which is made by mixing different chemical formulas and it is given to the patient as a single medicine."
   ]
  },
  {
   "cell_type": "markdown",
   "id": "2ecb33be-3f62-4851-911e-d227accdb489",
   "metadata": {},
   "source": [
    "Q3.What is abc module in python? Why is it used?\n",
    "\n",
    "Ans.abc(abstract base class) in python is an module that offers the necessary tools for crafting an abstract base class."
   ]
  },
  {
   "cell_type": "markdown",
   "id": "3a36064e-2589-4a06-8688-10ac7fd897d8",
   "metadata": {},
   "source": [
    "Q4.How can we achieve data abstraction?\n",
    "\n",
    "Ans.Data Abstraction in Python can be achieved through creating abstract classes and inheriting them later. "
   ]
  },
  {
   "cell_type": "markdown",
   "id": "6b76e494-4731-4626-a6a2-9f554fe032cf",
   "metadata": {},
   "source": [
    "Q5.Can we create an instance of an abstract class?Explain your answer.\n",
    "\n",
    "Ans.No,we can't create an object of an abstract class. But we can create a reference variable of an abstract class. The reference variable is used to refer to the objects of derived classes."
   ]
  }
 ],
 "metadata": {
  "kernelspec": {
   "display_name": "Python 3 (ipykernel)",
   "language": "python",
   "name": "python3"
  },
  "language_info": {
   "codemirror_mode": {
    "name": "ipython",
    "version": 3
   },
   "file_extension": ".py",
   "mimetype": "text/x-python",
   "name": "python",
   "nbconvert_exporter": "python",
   "pygments_lexer": "ipython3",
   "version": "3.10.8"
  }
 },
 "nbformat": 4,
 "nbformat_minor": 5
}
